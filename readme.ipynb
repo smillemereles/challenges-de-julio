{
 "cells": [
  {
   "cell_type": "markdown",
   "metadata": {},
   "source": [
    "1)Búsqueda en lista ordenada: Implementa una función de búsqueda binaria que determine si un número está en una lista ordenada de 10 elementos.\n",
    "1)Ordenamiento simple: Escribe una función que ordene una lista de 5 enteros utilizando cualquier método de ordenamiento que prefieras (por ejemplo, burbuja, inserción, selección).\n",
    "3)Recorrido en profundidad (DFS): Implementa un recorrido DFS para un grafo simple con 5 nodos.\n",
    "4)Recorrido en amplitud (BFS): Implementa un recorrido BFS para un grafo simple con 5 nodos.\n",
    "5)Camino más corto: Dado un grafo pequeño con 5 nodos y 6 aristas, escribe una función que encuentre el camino más corto entre dos nodos especificados usando cualquier método que prefieras.\n",
    "6)Árbol binario de búsqueda (BST): Implementa solo la inserción en un árbol binario de búsqueda para 5 elementos\n",
    "7)Piloto de eventos (Priority Queue): Implementa una cola de prioridad utilizando una lista para insertar y eliminar 5 elementos.\n",
    "8)Pilas y colas: Implementa las operaciones básicas de una pila y/o una cola para 5 elementos.\n",
    "9)Recursión Factorial: Implementa una función recursiva para calcular el factorial de un número pequeño (por ejemplo, 5).\n",
    "10)Eliminar duplicados: Implementa una función que elimine los elementos duplicados de una lista de 10 enteros.\n",
    "11)Clase de Punto 2D: Crea una clase Punto2D con atributos x & y, y un método para imprimir sus coordenadas.\n",
    "12)Figura y Círculo: Crea una clase base Figura con un método imprimir y una clase derivada Círculo que extienda Figura y sobreescriba el método imprimir.\n",
    "13)Cuenta bancaria: Implementa una clase CuentaBancaria con métodos para depositar y consultar el saldo.\n",
    "14)Polimorfismo: Crea una clase base Animal con un método hacerSonido y una clase derivada Perro que sobrescriba este método.\n",
    "15)Auto y Motor: Implementa una clase Auto que contenga una instancia de una clase Motor con un método para describir el motor.\n",
    "16)Formas geométricas: Define una clase base FormaGeometrica con métodos calcular_area y calcular_perimetro. Crea clases derivadas Rectangulo y Circulo que sobrescriban estos métodos.\n",
    "17)Creación de tabla: Escribe una consulta SQL para crear una tabla Usuarios con columnas id y nombre.\n",
    "18)Inserción de datos: Escribe una consulta SQL para insertar un solo registro en la tabla Usuarios.\n",
    "19)Consulta básica: Escribe una consulta SQL para seleccionar todos los registros de la tabla Usuarios.\n",
    "20)Actualizar registros: Escribe una consulta SQL para actualizar el nombre de un usuario específico en la tabla Usuarios.\n",
    "21)Eliminar registros: Escribe una consulta SQL para eliminar un usuario específico de la tabla Usuarios."
   ]
  }
 ],
 "metadata": {
  "language_info": {
   "name": "python"
  }
 },
 "nbformat": 4,
 "nbformat_minor": 2
}
